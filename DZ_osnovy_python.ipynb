{
 "cells": [
  {
   "cell_type": "code",
   "execution_count": 38,
   "metadata": {},
   "outputs": [
    {
     "name": "stdout",
     "output_type": "stream",
     "text": [
      "Фраза 1 длиннее фразы 2\n"
     ]
    }
   ],
   "source": [
    "phrase_1 = 'Насколько проще было бы писать программы, если бы не заказчики'\n",
    "phrase_2 = '640Кб должно хватить для любых задач. Билл Гейтс (по легенде)'\n",
    "\n",
    "if phrase_1>phrase_2:\n",
    "    print('Фраза 1 длиннее фразы 2')"
   ]
  },
  {
   "cell_type": "code",
   "execution_count": 41,
   "metadata": {},
   "outputs": [
    {
     "name": "stdout",
     "output_type": "stream",
     "text": [
      "Фраза 2 длиннее фразы 1\n"
     ]
    }
   ],
   "source": [
    "phrase_1 = '640Кб должно хватить для любых задач. Билл Гейтс (по легенде)'\n",
    "phrase_2 = 'Насколько проще было бы писать программы, если бы не заказчики'\n",
    "\n",
    "if phrase_1<phrase_2:\n",
    "    print('Фраза 2 длиннее фразы 1')"
   ]
  },
  {
   "cell_type": "code",
   "execution_count": 43,
   "metadata": {},
   "outputs": [
    {
     "name": "stdout",
     "output_type": "stream",
     "text": [
      "Фразы равной длины\n"
     ]
    }
   ],
   "source": [
    "phrase_1 = 'Насколько проще было бы писать программы, если бы не заказчики'\n",
    "phrase_2 = 'Насколько проще было бы писать программы, если бы не заказчики'\n",
    "\n",
    "if phrase_1==phrase_2:\n",
    "    print('Фразы равной длины')"
   ]
  },
  {
   "cell_type": "code",
   "execution_count": 49,
   "metadata": {},
   "outputs": [
    {
     "name": "stdout",
     "output_type": "stream",
     "text": [
      "Високосный год\n"
     ]
    }
   ],
   "source": [
    "year=2020\n",
    "\n",
    "if year % 4 != 0:\n",
    "    print(\"Обычный год\")\n",
    "elif year % 100 == 0:\n",
    "    if year % 400 == 0:\n",
    "        print(\"Високосный год\")\n",
    "    else:\n",
    "        print(\"Обычный год\")\n",
    "else:\n",
    "    print(\"Високосный год\")"
   ]
  },
  {
   "cell_type": "code",
   "execution_count": 48,
   "metadata": {},
   "outputs": [
    {
     "name": "stdout",
     "output_type": "stream",
     "text": [
      "Обычный год\n"
     ]
    }
   ],
   "source": [
    "year=2019\n",
    "\n",
    "if year % 4 != 0:\n",
    "    print(\"Обычный год\")\n",
    "elif year % 100 == 0:\n",
    "    if year % 400 == 0:\n",
    "        print(\"Високосный год\")\n",
    "    else:\n",
    "        print(\"Обычный год\")\n",
    "else:\n",
    "    print(\"Високосный год\")"
   ]
  },
  {
   "cell_type": "code",
   "execution_count": 19,
   "metadata": {},
   "outputs": [
    {
     "name": "stdout",
     "output_type": "stream",
     "text": [
      "Введите день рождения:29\n",
      "Введите месяц рождения:Октябрь\n",
      "Знак зодиака:Скорпион\n"
     ]
    }
   ],
   "source": [
    "date=int(input(\"Введите день рождения:\"))\n",
    "month=str(input(\"Введите месяц рождения:\"))\n",
    "if (date>=21 and date<=31 and month==\"Март\") or( month==\"Апрель\" and date>=1 and date<=20):\n",
    "    print(\"Знак зодиака:Овен\")\n",
    "    \n",
    "elif (date>=21 and date<=30 and month==\"Апрель\") or( month==\"Май\" and date>=1 and date<=21):\n",
    "    print(\"Знак зодиака:Телец\")\n",
    "    \n",
    "elif (date>=22 and date<=31 and month==\"Май\") or( month==\"Июнь\" and date>=1 and date<=21):\n",
    "    print(\"Знак зодиака:Близнецы\")\n",
    "\n",
    "elif (date>=22 and date<=30 and month==\"Июнь\") or( month==\"Июль\" and date>=1 and date<=23):\n",
    "    print(\"Знак зодиака:Рак\")\n",
    "    \n",
    "elif (date>=24 and date<=31 and month==\"Июль\") or( month==\"Август\" and date>=1 and date<=23):\n",
    "     print(\"Знак зодиака:Лев\")\n",
    "\n",
    "elif (date>=24 and date<=31 and month==\"Август\") or( month==\"Сентябрь\" and date>=1 and date<=23):\n",
    "    print(\"Знак зодиака:Дева\")\n",
    "\n",
    "elif (date>=24 and date<=30 and month==\"Сентябрь\") or( month==\"Октябрь\" and date>=1 and date<=23):\n",
    "    print(\"Знак зодиака:Весы\")\n",
    "\n",
    "elif (date>=24 and date<=31 and month==\"Октябрь\") or( month==\"Ноябрь\" and date>=1 and date<=22):\n",
    "    print(\"Знак зодиака:Скорпион\")\n",
    "\n",
    "elif (date>=23 and date<=30 and month==\"Ноябрь\") or( month==\"Декабрь\" and date>=1 and date<=21):\n",
    "    print(\"Знак зодиака:Стрелец\")\n",
    "\n",
    "elif (date>=22 and date<=31 and month==\"Декабрь\") or( month==\"Январь\" and date>=1 and date<=20):\n",
    "    print(\"Знак зодиака:Козерог\")\n",
    "\n",
    "elif (date>=21 and date<=31 and month==\"Январь\") or( month==\"Февраль\" and date>=1 and date<=19):\n",
    "    print(\"Знак зодиака:Водолей\")\n",
    "\n",
    "elif (date>=20 and date<=29 and month==\"Февраль\") or( month==\"Март\" and date>=1 and date<=20):\n",
    "    print(\"Знак зодиака:Рыбы\")"
   ]
  },
  {
   "cell_type": "code",
   "execution_count": 1,
   "metadata": {},
   "outputs": [
    {
     "name": "stdout",
     "output_type": "stream",
     "text": [
      "Ширина:45\n",
      "Длина:205\n",
      "Высота:45\n",
      "Упаковка для лыж\n"
     ]
    }
   ],
   "source": [
    "width =int(input(\"Ширина:\"))\n",
    "length =int(input(\"Длина:\"))\n",
    "height =int(input(\"Высота:\"))\n",
    "\n",
    "if (width<15 and length<15 and height<15 ):\n",
    "    print(\"Коробка №1\")\n",
    "elif(width>15 and length>15 and length<200 and height<50)or(width<50 and length>15 and length<200 and height>15)or(width>15 and length<50 and height>15):\n",
    "    print(\"Коробка №2\")\n",
    "elif(length>200):\n",
    "        print(\"Упаковка для лыж\")\n",
    "else:\n",
    "    print(\"Стандартная коробка №3\")"
   ]
  },
  {
   "cell_type": "code",
   "execution_count": null,
   "metadata": {},
   "outputs": [],
   "source": []
  }
 ],
 "metadata": {
  "kernelspec": {
   "display_name": "Python 3",
   "language": "python",
   "name": "python3"
  },
  "language_info": {
   "codemirror_mode": {
    "name": "ipython",
    "version": 3
   },
   "file_extension": ".py",
   "mimetype": "text/x-python",
   "name": "python",
   "nbconvert_exporter": "python",
   "pygments_lexer": "ipython3",
   "version": "3.8.5"
  }
 },
 "nbformat": 4,
 "nbformat_minor": 4
}
