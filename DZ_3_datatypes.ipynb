{
 "cells": [
  {
   "cell_type": "code",
   "execution_count": 24,
   "metadata": {},
   "outputs": [
    {
     "name": "stdout",
     "output_type": "stream",
     "text": [
      "словарь\n",
      "в\n"
     ]
    }
   ],
   "source": [
    "#среднюю букву, если число букв в слове нечетное\n",
    "#две средних буквы, если число букв четное\n",
    "\n",
    "word = input ('')\n",
    "mid = len (word) // 2\n",
    "\n",
    "if len ( word ) % 2 == 0:\n",
    "    print ( f' { word [ mid - 1 ]}{ word [ mid ] } ')\n",
    "else:\n",
    "    print ( f' { word [ mid ] } ')\n"
   ]
  },
  {
   "cell_type": "code",
   "execution_count": 1,
   "metadata": {},
   "outputs": [
    {
     "name": "stdout",
     "output_type": "stream",
     "text": [
      "5\n",
      "5\n",
      "1\n",
      "0\n",
      " Сумма: 11\n"
     ]
    }
   ],
   "source": [
    "num = 0\n",
    "sum_num = 0\n",
    "\n",
    "while True:\n",
    "    token = int ( input ())\n",
    "    \n",
    "    if token == 0:\n",
    "        break\n",
    "    else:\n",
    "        sum_num +=token   \n",
    "print ( ' Сумма:' , sum_num )"
   ]
  },
  {
   "cell_type": "code",
   "execution_count": 53,
   "metadata": {},
   "outputs": [
    {
     "name": "stdout",
     "output_type": "stream",
     "text": [
      "Внимание, кто-то может остаться без пары!\n"
     ]
    }
   ],
   "source": [
    "boys = [ 'Peter', 'Alex', 'John', 'Arthur', 'Richard' ]\n",
    "girls = [ 'Kate', 'Liza', 'Kira', 'Emma', 'Trisha' ]\n",
    "\n",
    "male = sorted (boys)\n",
    "female = sorted (girls)\n",
    "match = zip  (male, female)\n",
    "list ( match )\n",
    "for name in list ( match ):\n",
    "    print ( male ['0'] + female ['0'] )\n",
    "else:\n",
    "    print ( 'Внимание, кто-то может остаться без пары!' )\n",
    "#print (list ( match ))\n",
    "#print ( f'{ name [0]} , 'и' , f'{name [1]}')"
   ]
  },
  {
   "cell_type": "code",
   "execution_count": 40,
   "metadata": {},
   "outputs": [],
   "source": [
    "boys = [ 'Peter', 'Alex', 'John', 'Arthur', 'Richard', 'Max' ]\n",
    "girls = [ 'Kate', 'Liza', 'Kira', 'Emma', 'Trisha']\n",
    "\n",
    "male = sorted (boys)\n",
    "female = sorted (girls)\n",
    "match = zip  (male, female)\n",
    "list_match = list ( match )"
   ]
  },
  {
   "cell_type": "code",
   "execution_count": 73,
   "metadata": {
    "scrolled": false
   },
   "outputs": [
    {
     "name": "stdout",
     "output_type": "stream",
     "text": [
      "Внимание, кто-то может остаться без пары!\n"
     ]
    }
   ],
   "source": [
    "if len ( boys ) != len ( girls ):\n",
    "    match != zip ( male, female )\n",
    "    list_match = list ( match )\n",
    "    print ('Внимание, кто-то может остаться без пары!')\n",
    "for name in list_match:\n",
    "        print ( name [ 0 ], 'и' , name [ 1 ] )\n"
   ]
  },
  {
   "cell_type": "code",
   "execution_count": 74,
   "metadata": {},
   "outputs": [
    {
     "name": "stdout",
     "output_type": "stream",
     "text": [
      "Alex и Emma\n",
      "Arthur и Kate\n",
      "John и Kira\n",
      "Peter и Liza\n",
      "Richard и Trisha\n"
     ]
    }
   ],
   "source": [
    "boys = [ 'Peter', 'Alex', 'John', 'Arthur', 'Richard' ]\n",
    "girls = [ 'Kate', 'Liza', 'Kira', 'Emma', 'Trisha' ]\n",
    "\n",
    "male = sorted (boys)\n",
    "female = sorted (girls)\n",
    "match = zip  (male, female)\n",
    "list_match = list ( match )\n",
    "\n",
    "if len ( boys ) != len ( girls ):\n",
    "    match != zip ( male, female )\n",
    "    list_match = list ( match )\n",
    "    print ('Внимание, кто-то может остаться без пары!')\n",
    "for name in list_match:\n",
    "        print ( name [ 0 ], 'и' , name [ 1 ] )"
   ]
  },
  {
   "cell_type": "code",
   "execution_count": 89,
   "metadata": {},
   "outputs": [
    {
     "name": "stdout",
     "output_type": "stream",
     "text": [
      "[['Thailand', 24.05], ['Germany', 13.91], ['Russia', 3.74], ['Poland', 12.1]]\n"
     ]
    }
   ],
   "source": [
    "countries_temperature = [\n",
    "    ['Thailand', [75.2, 77, 78.8, 73.4, 68, 75.2, 77]],\n",
    "    ['Germany', [57.2, 55.4, 59, 59, 53.6]],\n",
    "    ['Russia', [35.6, 37.4, 39.2, 41, 42.8, 39.2, 35.6]],\n",
    "    ['Poland', [50, 50, 53.6, 57.2, 55.4, 55.4]]\n",
    "]\n",
    "#(Фаренгейт — 32) : 1,8 = Цельсий\n",
    "#C = 5 / 9 * (F – 32)\n",
    "\n",
    "celsius_temperature = list ( map ( lambda x: [ x [0], round ((sum ( x [1] ) / len ( x [1] ) - 32) * 0.56, 2)], countries_temperature))\n",
    "\n",
    "print(celsius_temperature)"
   ]
  }
 ],
 "metadata": {
  "kernelspec": {
   "display_name": "Python 3",
   "language": "python",
   "name": "python3"
  },
  "language_info": {
   "codemirror_mode": {
    "name": "ipython",
    "version": 3
   },
   "file_extension": ".py",
   "mimetype": "text/x-python",
   "name": "python",
   "nbconvert_exporter": "python",
   "pygments_lexer": "ipython3",
   "version": "3.8.5"
  }
 },
 "nbformat": 4,
 "nbformat_minor": 4
}
